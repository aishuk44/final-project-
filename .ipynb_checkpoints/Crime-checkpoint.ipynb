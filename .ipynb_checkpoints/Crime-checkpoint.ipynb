{
 "cells": [
  {
   "cell_type": "markdown",
   "metadata": {},
   "source": [
    "# Pittsburgh Neighborhoods by Crime Rate"
   ]
  },
  {
   "cell_type": "markdown",
   "metadata": {},
   "source": [
    "![cop car](https://media.giphy.com/media/l4pTdvQhGedNxG4JG/giphy.gif)"
   ]
  },
  {
   "cell_type": "markdown",
   "metadata": {},
   "source": [
    "Data Source: https://data.wprdc.org/dataset/arrest-data"
   ]
  },
  {
   "cell_type": "code",
   "execution_count": 2,
   "metadata": {},
   "outputs": [],
   "source": [
    "import pandas as pd\n",
    "import numpy as np\n",
    "import geopandas"
   ]
  },
  {
   "cell_type": "markdown",
   "metadata": {},
   "source": [
    "## Introduction"
   ]
  },
  {
   "cell_type": "markdown",
   "metadata": {},
   "source": [
    "To find the best neighhborhood in Pittsburgh, we will analyze the Pittsburgh Police Arrest dataset from the Western Pennsylvania Regional Data Center. Listed below is the dictionary for the less inuitive columns in the data set ."
   ]
  },
  {
   "cell_type": "code",
   "execution_count": 3,
   "metadata": {},
   "outputs": [
    {
     "name": "stdout",
     "output_type": "stream",
     "text": [
      "PK            Unique identifier for each arrest incident\n",
      "CCR                                      Incident Number\n",
      "X      The geocoded X coordinate of the incident loca...\n",
      "Y      The geocoded Y coordinate of the incident loca...\n",
      "dtype: object\n"
     ]
    }
   ],
   "source": [
    "data_dictionary = {\n",
    "    \"PK\": \"Unique identifier for each arrest incident\",\n",
    "    \"CCR\": \"Incident Number\",\n",
    "    \"X\": \"The geocoded X coordinate of the incident location\",\n",
    "    \"Y\": \"The geocoded Y coordinate of the incident location\"\n",
    "}\n",
    "dictionary = pd.Series(data=data_dictionary, index=['PK', 'CCR', 'X', 'Y'])\n",
    "print(dictionary)"
   ]
  },
  {
   "cell_type": "code",
   "execution_count": 4,
   "metadata": {},
   "outputs": [
    {
     "data": {
      "text/html": [
       "<div>\n",
       "<style scoped>\n",
       "    .dataframe tbody tr th:only-of-type {\n",
       "        vertical-align: middle;\n",
       "    }\n",
       "\n",
       "    .dataframe tbody tr th {\n",
       "        vertical-align: top;\n",
       "    }\n",
       "\n",
       "    .dataframe thead th {\n",
       "        text-align: right;\n",
       "    }\n",
       "</style>\n",
       "<table border=\"1\" class=\"dataframe\">\n",
       "  <thead>\n",
       "    <tr style=\"text-align: right;\">\n",
       "      <th></th>\n",
       "      <th>PK</th>\n",
       "      <th>CCR</th>\n",
       "      <th>AGE</th>\n",
       "      <th>GENDER</th>\n",
       "      <th>RACE</th>\n",
       "      <th>ARRESTTIME</th>\n",
       "      <th>ARRESTLOCATION</th>\n",
       "      <th>OFFENSES</th>\n",
       "      <th>INCIDENTLOCATION</th>\n",
       "      <th>INCIDENTNEIGHBORHOOD</th>\n",
       "      <th>INCIDENTZONE</th>\n",
       "      <th>INCIDENTTRACT</th>\n",
       "      <th>COUNCIL_DISTRICT</th>\n",
       "      <th>PUBLIC_WORKS_DIVISION</th>\n",
       "      <th>X</th>\n",
       "      <th>Y</th>\n",
       "    </tr>\n",
       "    <tr>\n",
       "      <th>_id</th>\n",
       "      <th></th>\n",
       "      <th></th>\n",
       "      <th></th>\n",
       "      <th></th>\n",
       "      <th></th>\n",
       "      <th></th>\n",
       "      <th></th>\n",
       "      <th></th>\n",
       "      <th></th>\n",
       "      <th></th>\n",
       "      <th></th>\n",
       "      <th></th>\n",
       "      <th></th>\n",
       "      <th></th>\n",
       "      <th></th>\n",
       "      <th></th>\n",
       "    </tr>\n",
       "  </thead>\n",
       "  <tbody>\n",
       "    <tr>\n",
       "      <th>1</th>\n",
       "      <td>1975272</td>\n",
       "      <td>16158872</td>\n",
       "      <td>42.0</td>\n",
       "      <td>F</td>\n",
       "      <td>B</td>\n",
       "      <td>2016-08-24T12:20:00</td>\n",
       "      <td>4700 Block Centre AV Pittsburgh, PA 15213</td>\n",
       "      <td>3929 Retail Theft.</td>\n",
       "      <td>4700 Block Centre AV Pittsburgh, PA 15213</td>\n",
       "      <td>Bloomfield</td>\n",
       "      <td>5</td>\n",
       "      <td>804.0</td>\n",
       "      <td>8.0</td>\n",
       "      <td>2.0</td>\n",
       "      <td>-79.949277</td>\n",
       "      <td>40.452551</td>\n",
       "    </tr>\n",
       "    <tr>\n",
       "      <th>2</th>\n",
       "      <td>1974456</td>\n",
       "      <td>16144120</td>\n",
       "      <td>31.0</td>\n",
       "      <td>M</td>\n",
       "      <td>W</td>\n",
       "      <td>2016-08-03T14:55:00</td>\n",
       "      <td>4200 Block Steubenville PKE Pittsburgh, PA 15205</td>\n",
       "      <td>13(a)(16) Possession of Controlled Substance</td>\n",
       "      <td>4200 Block Steubenville PKE Pittsburgh, PA 15205</td>\n",
       "      <td>Outside City</td>\n",
       "      <td>OSC</td>\n",
       "      <td>5599.0</td>\n",
       "      <td>NaN</td>\n",
       "      <td>NaN</td>\n",
       "      <td>-80.088018</td>\n",
       "      <td>40.440136</td>\n",
       "    </tr>\n",
       "    <tr>\n",
       "      <th>3</th>\n",
       "      <td>1974466</td>\n",
       "      <td>16144165</td>\n",
       "      <td>63.0</td>\n",
       "      <td>F</td>\n",
       "      <td>B</td>\n",
       "      <td>2016-08-03T16:45:00</td>\n",
       "      <td>900 Block Freeport RD Fox Chapel, PA 15238</td>\n",
       "      <td>3929 Retail Theft.</td>\n",
       "      <td>900 Block Freeport RD Fox Chapel, PA 15238</td>\n",
       "      <td>Westwood</td>\n",
       "      <td>5</td>\n",
       "      <td>2811.0</td>\n",
       "      <td>9.0</td>\n",
       "      <td>2.0</td>\n",
       "      <td>-79.891803</td>\n",
       "      <td>40.486625</td>\n",
       "    </tr>\n",
       "    <tr>\n",
       "      <th>4</th>\n",
       "      <td>1974550</td>\n",
       "      <td>16145257</td>\n",
       "      <td>25.0</td>\n",
       "      <td>F</td>\n",
       "      <td>W</td>\n",
       "      <td>2016-08-05T02:36:00</td>\n",
       "      <td>Foreland ST &amp; Cedar AV Pittsburgh, PA 15212</td>\n",
       "      <td>5503 Disorderly Conduct. / 5505 Public Drunken...</td>\n",
       "      <td>Foreland ST &amp; Cedar AV Pittsburgh, PA 15212</td>\n",
       "      <td>East Allegheny</td>\n",
       "      <td>1</td>\n",
       "      <td>2304.0</td>\n",
       "      <td>1.0</td>\n",
       "      <td>1.0</td>\n",
       "      <td>-80.001939</td>\n",
       "      <td>40.454080</td>\n",
       "    </tr>\n",
       "    <tr>\n",
       "      <th>5</th>\n",
       "      <td>1974596</td>\n",
       "      <td>16145962</td>\n",
       "      <td>25.0</td>\n",
       "      <td>M</td>\n",
       "      <td>B</td>\n",
       "      <td>2016-08-06T02:00:00</td>\n",
       "      <td>900 Block Woodlow ST Pittsburgh, PA 15205</td>\n",
       "      <td>2702 Aggravated Assault. / 2705 Recklessy Enda...</td>\n",
       "      <td>900 Block Woodlow ST Pittsburgh, PA 15205</td>\n",
       "      <td>Crafton Heights</td>\n",
       "      <td>5</td>\n",
       "      <td>2814.0</td>\n",
       "      <td>2.0</td>\n",
       "      <td>5.0</td>\n",
       "      <td>-80.052204</td>\n",
       "      <td>40.445900</td>\n",
       "    </tr>\n",
       "    <tr>\n",
       "      <th>6</th>\n",
       "      <td>1974556</td>\n",
       "      <td>16144301</td>\n",
       "      <td>45.0</td>\n",
       "      <td>M</td>\n",
       "      <td>W</td>\n",
       "      <td>2016-08-15T13:30:00</td>\n",
       "      <td>600 Block 1st AV Pittsburgh, PA 15219</td>\n",
       "      <td>3929 Retail Theft.</td>\n",
       "      <td>800 Block Hazelwood AV Pittsburgh, PA 15217</td>\n",
       "      <td>Greenfield</td>\n",
       "      <td>4</td>\n",
       "      <td>1517.0</td>\n",
       "      <td>5.0</td>\n",
       "      <td>3.0</td>\n",
       "      <td>-79.929238</td>\n",
       "      <td>40.419699</td>\n",
       "    </tr>\n",
       "    <tr>\n",
       "      <th>7</th>\n",
       "      <td>1974628</td>\n",
       "      <td>16147655</td>\n",
       "      <td>29.0</td>\n",
       "      <td>M</td>\n",
       "      <td>W</td>\n",
       "      <td>2016-08-16T13:00:00</td>\n",
       "      <td>2300 Block Pioneer AV Pittsburgh, PA 15226</td>\n",
       "      <td>2701 Simple Assault.</td>\n",
       "      <td>2300 Block Pioneer AV Pittsburgh, PA 15226</td>\n",
       "      <td>Brookline</td>\n",
       "      <td>6</td>\n",
       "      <td>1919.0</td>\n",
       "      <td>4.0</td>\n",
       "      <td>5.0</td>\n",
       "      <td>-80.020357</td>\n",
       "      <td>40.400037</td>\n",
       "    </tr>\n",
       "    <tr>\n",
       "      <th>8</th>\n",
       "      <td>1974607</td>\n",
       "      <td>16146037</td>\n",
       "      <td>21.0</td>\n",
       "      <td>F</td>\n",
       "      <td>B</td>\n",
       "      <td>2016-08-16T04:25:00</td>\n",
       "      <td>600 Block 1st AV Pittsburgh, PA 15219</td>\n",
       "      <td>2701 Simple Assault. / 5505 Public Drunkenness...</td>\n",
       "      <td>700 Block S Braddock AV Pittsburgh, PA 15221</td>\n",
       "      <td>Regent Square</td>\n",
       "      <td>4</td>\n",
       "      <td>1410.0</td>\n",
       "      <td>NaN</td>\n",
       "      <td>NaN</td>\n",
       "      <td>-79.834462</td>\n",
       "      <td>40.398957</td>\n",
       "    </tr>\n",
       "    <tr>\n",
       "      <th>9</th>\n",
       "      <td>1974643</td>\n",
       "      <td>16132537</td>\n",
       "      <td>17.0</td>\n",
       "      <td>M</td>\n",
       "      <td>B</td>\n",
       "      <td>2016-08-29T17:55:00</td>\n",
       "      <td>1400 Block Washington BL Pittsburgh, PA 15206</td>\n",
       "      <td>903 Criminal Conspiracy. / 3701 Robbery.</td>\n",
       "      <td>N Euclid AV &amp; Broad ST Pittsburgh, PA 15206</td>\n",
       "      <td>East Liberty</td>\n",
       "      <td>5</td>\n",
       "      <td>1115.0</td>\n",
       "      <td>NaN</td>\n",
       "      <td>NaN</td>\n",
       "      <td>NaN</td>\n",
       "      <td>NaN</td>\n",
       "    </tr>\n",
       "    <tr>\n",
       "      <th>10</th>\n",
       "      <td>1974647</td>\n",
       "      <td>16138646</td>\n",
       "      <td>14.0</td>\n",
       "      <td>M</td>\n",
       "      <td>B</td>\n",
       "      <td>2016-08-23T13:36:00</td>\n",
       "      <td>Zone 2</td>\n",
       "      <td>3127 Indecent Exposure. / 3123(a)(6) IDSI with...</td>\n",
       "      <td>Zone 5</td>\n",
       "      <td>NaN</td>\n",
       "      <td>5</td>\n",
       "      <td>NaN</td>\n",
       "      <td>NaN</td>\n",
       "      <td>NaN</td>\n",
       "      <td>NaN</td>\n",
       "      <td>NaN</td>\n",
       "    </tr>\n",
       "  </tbody>\n",
       "</table>\n",
       "</div>"
      ],
      "text/plain": [
       "          PK       CCR   AGE GENDER RACE           ARRESTTIME  \\\n",
       "_id                                                             \n",
       "1    1975272  16158872  42.0      F    B  2016-08-24T12:20:00   \n",
       "2    1974456  16144120  31.0      M    W  2016-08-03T14:55:00   \n",
       "3    1974466  16144165  63.0      F    B  2016-08-03T16:45:00   \n",
       "4    1974550  16145257  25.0      F    W  2016-08-05T02:36:00   \n",
       "5    1974596  16145962  25.0      M    B  2016-08-06T02:00:00   \n",
       "6    1974556  16144301  45.0      M    W  2016-08-15T13:30:00   \n",
       "7    1974628  16147655  29.0      M    W  2016-08-16T13:00:00   \n",
       "8    1974607  16146037  21.0      F    B  2016-08-16T04:25:00   \n",
       "9    1974643  16132537  17.0      M    B  2016-08-29T17:55:00   \n",
       "10   1974647  16138646  14.0      M    B  2016-08-23T13:36:00   \n",
       "\n",
       "                                       ARRESTLOCATION  \\\n",
       "_id                                                     \n",
       "1           4700 Block Centre AV Pittsburgh, PA 15213   \n",
       "2    4200 Block Steubenville PKE Pittsburgh, PA 15205   \n",
       "3          900 Block Freeport RD Fox Chapel, PA 15238   \n",
       "4         Foreland ST & Cedar AV Pittsburgh, PA 15212   \n",
       "5           900 Block Woodlow ST Pittsburgh, PA 15205   \n",
       "6               600 Block 1st AV Pittsburgh, PA 15219   \n",
       "7          2300 Block Pioneer AV Pittsburgh, PA 15226   \n",
       "8               600 Block 1st AV Pittsburgh, PA 15219   \n",
       "9       1400 Block Washington BL Pittsburgh, PA 15206   \n",
       "10                                             Zone 2   \n",
       "\n",
       "                                              OFFENSES  \\\n",
       "_id                                                      \n",
       "1                                   3929 Retail Theft.   \n",
       "2         13(a)(16) Possession of Controlled Substance   \n",
       "3                                   3929 Retail Theft.   \n",
       "4    5503 Disorderly Conduct. / 5505 Public Drunken...   \n",
       "5    2702 Aggravated Assault. / 2705 Recklessy Enda...   \n",
       "6                                   3929 Retail Theft.   \n",
       "7                                 2701 Simple Assault.   \n",
       "8    2701 Simple Assault. / 5505 Public Drunkenness...   \n",
       "9             903 Criminal Conspiracy. / 3701 Robbery.   \n",
       "10   3127 Indecent Exposure. / 3123(a)(6) IDSI with...   \n",
       "\n",
       "                                     INCIDENTLOCATION INCIDENTNEIGHBORHOOD  \\\n",
       "_id                                                                          \n",
       "1           4700 Block Centre AV Pittsburgh, PA 15213           Bloomfield   \n",
       "2    4200 Block Steubenville PKE Pittsburgh, PA 15205         Outside City   \n",
       "3          900 Block Freeport RD Fox Chapel, PA 15238             Westwood   \n",
       "4         Foreland ST & Cedar AV Pittsburgh, PA 15212       East Allegheny   \n",
       "5           900 Block Woodlow ST Pittsburgh, PA 15205      Crafton Heights   \n",
       "6         800 Block Hazelwood AV Pittsburgh, PA 15217           Greenfield   \n",
       "7          2300 Block Pioneer AV Pittsburgh, PA 15226            Brookline   \n",
       "8        700 Block S Braddock AV Pittsburgh, PA 15221        Regent Square   \n",
       "9         N Euclid AV & Broad ST Pittsburgh, PA 15206         East Liberty   \n",
       "10                                             Zone 5                  NaN   \n",
       "\n",
       "    INCIDENTZONE  INCIDENTTRACT  COUNCIL_DISTRICT  PUBLIC_WORKS_DIVISION  \\\n",
       "_id                                                                        \n",
       "1              5          804.0               8.0                    2.0   \n",
       "2            OSC         5599.0               NaN                    NaN   \n",
       "3              5         2811.0               9.0                    2.0   \n",
       "4              1         2304.0               1.0                    1.0   \n",
       "5              5         2814.0               2.0                    5.0   \n",
       "6              4         1517.0               5.0                    3.0   \n",
       "7              6         1919.0               4.0                    5.0   \n",
       "8              4         1410.0               NaN                    NaN   \n",
       "9              5         1115.0               NaN                    NaN   \n",
       "10             5            NaN               NaN                    NaN   \n",
       "\n",
       "             X          Y  \n",
       "_id                        \n",
       "1   -79.949277  40.452551  \n",
       "2   -80.088018  40.440136  \n",
       "3   -79.891803  40.486625  \n",
       "4   -80.001939  40.454080  \n",
       "5   -80.052204  40.445900  \n",
       "6   -79.929238  40.419699  \n",
       "7   -80.020357  40.400037  \n",
       "8   -79.834462  40.398957  \n",
       "9          NaN        NaN  \n",
       "10         NaN        NaN  "
      ]
     },
     "execution_count": 4,
     "metadata": {},
     "output_type": "execute_result"
    }
   ],
   "source": [
    "data = pd.read_csv(\"ArrestData.csv\", index_col=\"_id\")\n",
    "data.head(10)"
   ]
  },
  {
   "cell_type": "markdown",
   "metadata": {},
   "source": [
    "Looking at the first 10 rows of the dataset, we can see the available data about arrests in Pittsburgh by including the location, age/race of suspect, gender, severity of of the crime, and more. For the purpose of ranking neighborhoods by number of arrests, factors such as age, gender, and race are not relevant. Instead, we are interested in the total number of arrests per Pittsburgh neighborhood."
   ]
  },
  {
   "cell_type": "code",
   "execution_count": 5,
   "metadata": {},
   "outputs": [
    {
     "name": "stdout",
     "output_type": "stream",
     "text": [
      "    INCIDENTNEIGHBORHOOD\n",
      "_id                     \n",
      "1             Bloomfield\n",
      "2           Outside City\n",
      "3               Westwood\n",
      "4         East Allegheny\n",
      "5        Crafton Heights\n",
      "6             Greenfield\n",
      "7              Brookline\n",
      "8          Regent Square\n",
      "9           East Liberty\n",
      "10                   NaN\n",
      "11            East Hills\n",
      "12               Carrick\n",
      "13        East Allegheny\n",
      "14       Crafton Heights\n",
      "15        East Allegheny\n",
      "16      Allegheny Center\n",
      "17        East Allegheny\n",
      "18      South Side Flats\n",
      "19             Brookline\n",
      "20              Sheraden\n"
     ]
    }
   ],
   "source": [
    "neighborhood_df = data.filter(['INCIDENTNEIGHBORHOOD'], axis=1)\n",
    "#alternative ways of creating data frame:\n",
    "#neighborhood_df = data.loc[:, \"INCIDENTNEIGHBORHOOD\"]\n",
    "#neighborhood_df = pd.DataFrame([data.INCIDENTNEIGHBORHOOD]).transpose()\n",
    "print(neighborhood_df.head(20))"
   ]
  },
  {
   "cell_type": "markdown",
   "metadata": {},
   "source": [
    "Creating a dataframe with only the incident neighborhood and offense committed, we are able to have a better understanding how many times a neighbhorhood appears in a reported arrest. Now we want to clean up our data a bit to see how many unique values there are or if any values are missing"
   ]
  },
  {
   "cell_type": "code",
   "execution_count": 6,
   "metadata": {},
   "outputs": [
    {
     "data": {
      "text/plain": [
       "array(['Bloomfield', 'Outside City', 'Westwood', 'East Allegheny',\n",
       "       'Crafton Heights', 'Greenfield', 'Brookline', 'Regent Square',\n",
       "       'East Liberty', 'East Hills', 'Carrick', 'Allegheny Center',\n",
       "       'South Side Flats', 'Sheraden', 'East Carnegie',\n",
       "       'Golden Triangle/Civic Arena', 'Point Breeze North', 'Perry South',\n",
       "       'Allentown', 'North Shore', 'Marshall-Shadeland',\n",
       "       'Central Oakland', 'Middle Hill', 'Strip District',\n",
       "       'Lincoln-Lemington-Belmar', 'Central Northside',\n",
       "       'Troy Hill-Herrs Island', 'Highland Park', 'Homewood North',\n",
       "       'Northview Heights', 'Brighton Heights', 'Hazelwood',\n",
       "       'Perry North', 'Bedford Dwellings', 'Elliott', 'Beechview',\n",
       "       'Fineview', 'Glen Hazel', 'Spring Hill-City View', 'Bluff',\n",
       "       'Manchester', 'Homewood West', 'Outside County', 'Point Breeze',\n",
       "       'Homewood South', 'Squirrel Hill South', 'Terrace Village',\n",
       "       'Upper Lawrenceville', 'Arlington', 'South Side Slopes',\n",
       "       'Lower Lawrenceville', 'Garfield', 'Lincoln Place', 'Larimer',\n",
       "       'Mount Washington', 'California-Kirkbride', 'Banksville',\n",
       "       'Bon Air', 'South Shore', 'Beltzhoover', 'Knoxville', 'Chateau',\n",
       "       'Crawford-Roberts', 'Polish Hill', 'Fairywood', 'West End',\n",
       "       'Shadyside', 'Morningside', 'Overbrook', 'Friendship',\n",
       "       'North Oakland', 'Central Lawrenceville', 'Oakwood', 'Upper Hill',\n",
       "       'South Oakland', 'West Oakland', 'Spring Garden', 'Allegheny West',\n",
       "       'St. Clair', 'Stanton Heights', 'Esplen', 'Squirrel Hill North',\n",
       "       'Mt. Oliver Neighborhood', 'Summer Hill', 'Arlington Heights',\n",
       "       'Troy Hill', 'Central Business District', 'Central North Side',\n",
       "       'Mount Oliver', 'Windgap', 'Outside State', 'Duquesne Heights',\n",
       "       'New Homestead', 'Ridgemont', 'Swisshelm Park', 'Hays',\n",
       "       'Chartiers City', 'Mt. Oliver Boro'], dtype=object)"
      ]
     },
     "execution_count": 6,
     "metadata": {},
     "output_type": "execute_result"
    }
   ],
   "source": [
    "#lets tidy up the data a bit and dive deeper\n",
    "#rename column to something easier to type\n",
    "neighborhood_df = neighborhood_df.rename(columns={'INCIDENTNEIGHBORHOOD': 'NEIGHBORHOODS'})\n",
    "#remove all null values in data\n",
    "neighborhood_df = neighborhood_df.dropna()\n",
    "#see how many distinct neighborhoods exists in data set\n",
    "neighborhood_df['NEIGHBORHOODS'].unique()\n",
    "#98 neighborhoods"
   ]
  },
  {
   "cell_type": "code",
   "execution_count": 7,
   "metadata": {},
   "outputs": [
    {
     "data": {
      "text/plain": [
       "{'Bloomfield': 929,\n",
       " 'Outside City': 298,\n",
       " 'Westwood': 209,\n",
       " 'East Allegheny': 2008,\n",
       " 'Crafton Heights': 545,\n",
       " 'Greenfield': 496,\n",
       " 'Brookline': 1266,\n",
       " 'Regent Square': 35,\n",
       " 'East Liberty': 1733,\n",
       " 'East Hills': 1083,\n",
       " 'Carrick': 2198,\n",
       " 'Allegheny Center': 1180,\n",
       " 'South Side Flats': 3185,\n",
       " 'Sheraden': 1191,\n",
       " 'East Carnegie': 48,\n",
       " 'Golden Triangle/Civic Arena': 83,\n",
       " 'Point Breeze North': 260,\n",
       " 'Perry South': 989,\n",
       " 'Allentown': 884,\n",
       " 'North Shore': 757,\n",
       " 'Marshall-Shadeland': 1402,\n",
       " 'Central Oakland': 487,\n",
       " 'Middle Hill': 880,\n",
       " 'Strip District': 471,\n",
       " 'Lincoln-Lemington-Belmar': 1216,\n",
       " 'Central Northside': 23,\n",
       " 'Troy Hill-Herrs Island': 6,\n",
       " 'Highland Park': 529,\n",
       " 'Homewood North': 1837,\n",
       " 'Northview Heights': 661,\n",
       " 'Brighton Heights': 1024,\n",
       " 'Hazelwood': 1287,\n",
       " 'Perry North': 567,\n",
       " 'Bedford Dwellings': 616,\n",
       " 'Elliott': 619,\n",
       " 'Beechview': 1115,\n",
       " 'Fineview': 773,\n",
       " 'Glen Hazel': 153,\n",
       " 'Spring Hill-City View': 667,\n",
       " 'Bluff': 1370,\n",
       " 'Manchester': 445,\n",
       " 'Homewood West': 731,\n",
       " 'Outside County': 52,\n",
       " 'Point Breeze': 287,\n",
       " 'Homewood South': 1939,\n",
       " 'Squirrel Hill South': 771,\n",
       " 'Terrace Village': 271,\n",
       " 'Upper Lawrenceville': 174,\n",
       " 'Arlington': 276,\n",
       " 'South Side Slopes': 752,\n",
       " 'Lower Lawrenceville': 249,\n",
       " 'Garfield': 661,\n",
       " 'Lincoln Place': 206,\n",
       " 'Larimer': 810,\n",
       " 'Mount Washington': 1353,\n",
       " 'California-Kirkbride': 280,\n",
       " 'Banksville': 272,\n",
       " 'Bon Air': 249,\n",
       " 'South Shore': 279,\n",
       " 'Beltzhoover': 480,\n",
       " 'Knoxville': 1240,\n",
       " 'Chateau': 414,\n",
       " 'Crawford-Roberts': 768,\n",
       " 'Polish Hill': 151,\n",
       " 'Fairywood': 112,\n",
       " 'West End': 265,\n",
       " 'Shadyside': 898,\n",
       " 'Morningside': 180,\n",
       " 'Overbrook': 294,\n",
       " 'Friendship': 157,\n",
       " 'North Oakland': 408,\n",
       " 'Central Lawrenceville': 415,\n",
       " 'Oakwood': 79,\n",
       " 'Upper Hill': 340,\n",
       " 'South Oakland': 321,\n",
       " 'West Oakland': 284,\n",
       " 'Spring Garden': 205,\n",
       " 'Allegheny West': 122,\n",
       " 'St. Clair': 48,\n",
       " 'Stanton Heights': 210,\n",
       " 'Esplen': 191,\n",
       " 'Squirrel Hill North': 269,\n",
       " 'Mt. Oliver Neighborhood': 2,\n",
       " 'Summer Hill': 66,\n",
       " 'Arlington Heights': 138,\n",
       " 'Troy Hill': 400,\n",
       " 'Central Business District': 3782,\n",
       " 'Central North Side': 782,\n",
       " 'Mount Oliver': 113,\n",
       " 'Windgap': 115,\n",
       " 'Outside State': 60,\n",
       " 'Duquesne Heights': 181,\n",
       " 'New Homestead': 39,\n",
       " 'Ridgemont': 35,\n",
       " 'Swisshelm Park': 40,\n",
       " 'Hays': 106,\n",
       " 'Chartiers City': 40,\n",
       " 'Mt. Oliver Boro': 18}"
      ]
     },
     "execution_count": 7,
     "metadata": {},
     "output_type": "execute_result"
    }
   ],
   "source": [
    "##Create loop to track how many arrests per neighborhood\n",
    "arrests_count = dict()\n",
    "for row in neighborhood_df['NEIGHBORHOODS']:\n",
    "    neighborhood = row[0:]\n",
    "    if neighborhood not in arrests_count:\n",
    "        arrests_count[neighborhood] = 1\n",
    "    else:\n",
    "        arrests_count[neighborhood] += 1\n",
    "arrests_count"
   ]
  },
  {
   "cell_type": "code",
   "execution_count": 8,
   "metadata": {},
   "outputs": [
    {
     "name": "stdout",
     "output_type": "stream",
     "text": [
      "929\n",
      "298\n",
      "209\n",
      "191\n",
      "1733\n",
      "106\n"
     ]
    }
   ],
   "source": [
    "#lets verify that our loop works:\n",
    "print(neighborhood_df['NEIGHBORHOODS'].value_counts()['Bloomfield'])\n",
    "print(neighborhood_df['NEIGHBORHOODS'].value_counts()['Outside City'])\n",
    "print(neighborhood_df['NEIGHBORHOODS'].value_counts()['Westwood'])\n",
    "print(neighborhood_df['NEIGHBORHOODS'].value_counts()['Esplen'])\n",
    "print(neighborhood_df['NEIGHBORHOODS'].value_counts()['East Liberty'])\n",
    "print(neighborhood_df['NEIGHBORHOODS'].value_counts()['Hays'])"
   ]
  },
  {
   "cell_type": "markdown",
   "metadata": {},
   "source": [
    "Now that our data in the dictionary has been verified, lets create a dataframe using the information above to see the neighborhoods with the highest rates of arrest"
   ]
  },
  {
   "cell_type": "code",
   "execution_count": 9,
   "metadata": {},
   "outputs": [],
   "source": [
    "arrests_df = pd.DataFrame.from_dict(arrests_count, orient='index')\n",
    "#We want to sort the data from greatest to least\n",
    "arrests_df = arrests_df[0].sort_values(ascending=False)"
   ]
  },
  {
   "cell_type": "markdown",
   "metadata": {},
   "source": [
    "Using the head() and tail() functions, we can see the top 10 neighborhoods with the highest and lowest reports of arrests"
   ]
  },
  {
   "cell_type": "code",
   "execution_count": 10,
   "metadata": {},
   "outputs": [
    {
     "name": "stdout",
     "output_type": "stream",
     "text": [
      "Central Business District    3782\n",
      "South Side Flats             3185\n",
      "Carrick                      2198\n",
      "East Allegheny               2008\n",
      "Homewood South               1939\n",
      "Homewood North               1837\n",
      "East Liberty                 1733\n",
      "Marshall-Shadeland           1402\n",
      "Bluff                        1370\n",
      "Mount Washington             1353\n",
      "Name: 0, dtype: int64\n"
     ]
    }
   ],
   "source": [
    "print(arrests_df.head(10))"
   ]
  },
  {
   "cell_type": "code",
   "execution_count": 11,
   "metadata": {},
   "outputs": [
    {
     "name": "stdout",
     "output_type": "stream",
     "text": [
      "East Carnegie              48\n",
      "Swisshelm Park             40\n",
      "Chartiers City             40\n",
      "New Homestead              39\n",
      "Regent Square              35\n",
      "Ridgemont                  35\n",
      "Central Northside          23\n",
      "Mt. Oliver Boro            18\n",
      "Troy Hill-Herrs Island      6\n",
      "Mt. Oliver Neighborhood     2\n",
      "Name: 0, dtype: int64\n"
     ]
    }
   ],
   "source": [
    "print(arrests_df.tail(10))"
   ]
  },
  {
   "cell_type": "markdown",
   "metadata": {},
   "source": [
    "## Visualizing our data"
   ]
  },
  {
   "cell_type": "code",
   "execution_count": 12,
   "metadata": {},
   "outputs": [
    {
     "name": "stdout",
     "output_type": "stream",
     "text": [
      "                         arrests\n",
      "East Carnegie                 48\n",
      "Swisshelm Park                40\n",
      "Chartiers City                40\n",
      "New Homestead                 39\n",
      "Regent Square                 35\n",
      "Ridgemont                     35\n",
      "Central Northside             23\n",
      "Mt. Oliver Boro               18\n",
      "Troy Hill-Herrs Island         6\n",
      "Mt. Oliver Neighborhood        2\n"
     ]
    }
   ],
   "source": [
    "lowArrest = pd.DataFrame(arrests_df.tail(10))\n",
    "lowArrest.columns = ['arrests']\n",
    "print(lowArrest)"
   ]
  },
  {
   "cell_type": "code",
   "execution_count": 13,
   "metadata": {},
   "outputs": [
    {
     "data": {
      "text/plain": [
       "<matplotlib.axes._subplots.AxesSubplot at 0x7fe7220a3730>"
      ]
     },
     "execution_count": 13,
     "metadata": {},
     "output_type": "execute_result"
    },
    {
     "data": {
      "image/png": "[encoded data removed]",
      "text/plain": [
       "<Figure size 432x288 with 1 Axes>"
      ]
     },
     "metadata": {
      "needs_background": "light"
     },
     "output_type": "display_data"
    }
   ],
   "source": [
    "lowArrest.plot(kind='bar')"
   ]
  },
  {
   "cell_type": "markdown",
   "metadata": {},
   "source": [
    "### Given the data, Mt. Oliver Neighborhood may be considered the best by our metric since it has the lowest number of reported arrests within the arrest data set. ###"
   ]
  }
 ],
 "metadata": {
  "kernelspec": {
   "display_name": "Python 3",
   "language": "python",
   "name": "python3"
  },
  "language_info": {
   "codemirror_mode": {
    "name": "ipython",
    "version": 3
   },
   "file_extension": ".py",
   "mimetype": "text/x-python",
   "name": "python",
   "nbconvert_exporter": "python",
   "pygments_lexer": "ipython3",
   "version": "3.8.3"
  }
 },
 "nbformat": 4,
 "nbformat_minor": 4
}
